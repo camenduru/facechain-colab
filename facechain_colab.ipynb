{
  "cells": [
    {
      "cell_type": "markdown",
      "metadata": {
        "id": "view-in-github"
      },
      "source": [
        "[![Open In Colab](https://colab.research.google.com/assets/colab-badge.svg)](https://colab.research.google.com/github/camenduru/facechain-colab/blob/main/facechain_colab.ipynb)"
      ]
    },
    {
      "cell_type": "code",
      "execution_count": null,
      "metadata": {
        "id": "VjYy0F2gZIPR"
      },
      "outputs": [],
      "source": [
        "%cd /content\n",
        "!git clone --depth 1 -b v1.0 https://github.com/camenduru/facechain\n",
        "!pip install -q https://github.com/camenduru/insightface-face-detection-colab/releases/download/v0.1/mmcv_full-1.7.0-cp310-cp310-linux_x86_64.whl\n",
        "!pip install -q gradio accelerate transformers diffusers onnxruntime modelscope mediapipe mmdet==2.26.0 mmengine timm controlnet_aux xformers==0.0.20 triton==2.0.0\n",
        "!git clone https://huggingface.co/camenduru/facechain-colab /root/.cache/modelscope\n",
        "\n",
        "%cd /content/facechain\n",
        "!python app.py"
      ]
    },
    {
      "cell_type": "code",
      "execution_count": null,
      "metadata": {},
      "outputs": [],
      "source": [
        "!pip install -q safetensors\n",
        "!wget https://raw.githubusercontent.com/camenduru/facechain-colab/main/convert-to-safetensors.py\n",
        "!python convert-to-safetensors.py --file /tmp/qw/personalization_lora/pytorch_lora_weights.bin\n",
        "!cp /tmp/qw/personalization_lora/pytorch_lora_weights.bin /content/pytorch_lora_weights.bin\n",
        "!cp /tmp/qw/personalization_lora/pytorch_lora_weights_converted.safetensors /content/pytorch_lora_weights_converted.safetensors"
      ]
    }
  ],
  "metadata": {
    "accelerator": "GPU",
    "colab": {
      "gpuType": "T4",
      "provenance": []
    },
    "kernelspec": {
      "display_name": "Python 3",
      "name": "python3"
    },
    "language_info": {
      "name": "python"
    }
  },
  "nbformat": 4,
  "nbformat_minor": 0
}
